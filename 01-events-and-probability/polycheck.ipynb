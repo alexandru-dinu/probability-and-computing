{
 "cells": [
  {
   "cell_type": "code",
   "execution_count": null,
   "id": "armed-anniversary",
   "metadata": {},
   "outputs": [],
   "source": [
    "import numpy as np\n",
    "from sympy import poly\n",
    "from sympy.abc import x"
   ]
  },
  {
   "cell_type": "markdown",
   "id": "opening-chinese",
   "metadata": {},
   "source": [
    "Define two polynomials:\n",
    "- $F$ is a product of monomials\n",
    "- $G$ is in canonical form"
   ]
  },
  {
   "cell_type": "code",
   "execution_count": null,
   "id": "assisted-communication",
   "metadata": {},
   "outputs": [],
   "source": [
    "F = poly((x + 1) * (x - 2) * (x + 3) * (x - 4) * (x + 5) * (x - 6))\n",
    "G = poly(x**6 - 7 * x**3 + 25)"
   ]
  },
  {
   "cell_type": "markdown",
   "id": "simplified-career",
   "metadata": {},
   "source": [
    "Want to check if $F \\equiv G$ without converting $F$ to canonical form."
   ]
  },
  {
   "cell_type": "code",
   "execution_count": null,
   "id": "celtic-growing",
   "metadata": {},
   "outputs": [],
   "source": [
    "def polycheck(F: 'poly', G: 'poly', δ: int, k: int, replacement: bool) -> bool:\n",
    "    \"\"\"Randomized algorithm for verifying whether F and G are equivalent.\n",
    "    \n",
    "    If F ≡ G, then the algo always computes the correct answer.\n",
    "    If F ≢ G, then the algo can compute the wrong answer by\n",
    "        finding r s.t. r is the root of F(x) - G(x) = 0,\n",
    "        which, by FTA, can happen at most in d / (δ * d) cases,\n",
    "        meaning that the prob. of error (in one iter) is <= 1/δ.\n",
    "        \n",
    "    If sampling is performed WITH replacement, then iterations are independent,\n",
    "        therefore, the probability of error becomes <= (1/δ)**k\n",
    "        i.e. exponentially small in the number of trials.\n",
    "    If sampling is performed WITHOUT replacement, we get a tighter bound <= (1/δ)**k,\n",
    "        since the error now consists of the event \"finding k distinct roots\",\n",
    "        which is much stronger.\n",
    "    \n",
    "    Args:\n",
    "        F, G: sympy polynomials.\n",
    "        δ: upper bound for the sample space.\n",
    "        k: number of iterations (trials).\n",
    "        replacement: whether to perform sampling with or without replacement.\n",
    "    \n",
    "    Returns:\n",
    "        True if F,G are found to be equivalent, otherwise False.\n",
    "    \"\"\"\n",
    "    d = max(F.degree(), G.degree())\n",
    "    space = np.arange(1, δ * d + 1)  # {1, ..., δ * d}\n",
    "\n",
    "    # choose values uniformly at random from the sample space\n",
    "    rs = np.random.choice(space, replace=replacement, size=k)\n",
    "\n",
    "    for r in rs:\n",
    "        if F(r) != G(r):\n",
    "            return False\n",
    "    \n",
    "    return True"
   ]
  },
  {
   "cell_type": "code",
   "execution_count": null,
   "id": "published-neutral",
   "metadata": {},
   "outputs": [],
   "source": [
    "polycheck(F, G, δ=100, k=10, replacement=False)"
   ]
  }
 ],
 "metadata": {
  "kernelspec": {
   "display_name": "Python 3",
   "language": "python",
   "name": "python3"
  },
  "language_info": {
   "codemirror_mode": {
    "name": "ipython",
    "version": 3
   },
   "file_extension": ".py",
   "mimetype": "text/x-python",
   "name": "python",
   "nbconvert_exporter": "python",
   "pygments_lexer": "ipython3",
   "version": "3.7.9"
  }
 },
 "nbformat": 4,
 "nbformat_minor": 5
}
